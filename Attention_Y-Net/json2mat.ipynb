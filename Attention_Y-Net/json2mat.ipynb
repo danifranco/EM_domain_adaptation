{
  "cells": [
    {
      "cell_type": "markdown",
      "metadata": {
        "id": "luSS6e7lSL0H"
      },
      "source": [
        "# Show compacted results from json\n",
        "\n"
      ]
    },
    {
      "cell_type": "markdown",
      "metadata": {},
      "source": [
        "### Functions"
      ]
    },
    {
      "cell_type": "code",
      "execution_count": 29,
      "metadata": {},
      "outputs": [],
      "source": [
        "import json\n",
        "import numpy as np\n",
        "import datetime\n",
        "\n",
        "def print_total_times(ALL):\n",
        "    train_time = []\n",
        "    test_time = []\n",
        "    datasets = list(ALL['datasets'].keys())\n",
        "    for source in datasets:\n",
        "        for target in datasets:\n",
        "            if source == target:\n",
        "                continue\n",
        "            #concat train time from 3 steps\n",
        "            train_time = train_time + np.ndarray.flatten(np.array(list(ALL['results'][source][target]['train']['time']))).tolist()\n",
        "            test_time = test_time \\\n",
        "                + ALL['results'][source][target]['test']['source']['test']['time'] \\\n",
        "                + ALL['results'][source][target]['test']['target']['train']['time'] \\\n",
        "                + ALL['results'][source][target]['test']['target']['test']['time']\n",
        "    #print(train_time)\n",
        "    #print(test_time)\n",
        "    tot_time = sum(train_time) + sum(test_time)\n",
        "    tot_time = tot_time/(ALL['act_repetition'] +1) # se han hecho x ejecuciones de todo\n",
        "\n",
        "    print(\"Train/Test time--all_combinations x1:  \", datetime.timedelta(seconds=tot_time))\n",
        "    print(\"Train/Test time--all_combinations x5:  \", datetime.timedelta(seconds=tot_time*5))\n",
        "    print(\"Train/Test time--all_combinations x10: \", datetime.timedelta(seconds=tot_time*10))\n",
        "    print(\"\")\n",
        "    print(\"Total Train time: \", datetime.timedelta(seconds=sum(train_time)))\n",
        "    print(\"Total Test time: \", datetime.timedelta(seconds=sum(test_time)))\n",
        "    print(\"\")\n",
        "\n",
        "def print_mean_matrix(ALL):\n",
        "    datasets = list(ALL['datasets'].keys())\n",
        "    last_rep = ALL['act_repetition'] # finished\n",
        "    if last_rep + 1 == ALL['parameters']['repeticiones']:\n",
        "        last_rep += 1\n",
        "    #last_rep += 1 ## QUITAR (solo sirve para mostrar matrices sin terminar)\n",
        "    m = np.mean(ALL['matrix per repetition'][:last_rep], axis=0)\n",
        "    std = np.std(ALL['matrix per repetition'][:last_rep], axis=0)\n",
        "    print(\"Model Name: {}\".format(ALL['parameters']['model_name']))\n",
        "    print(\"Repetitions:\", last_rep)\n",
        "    print(\"Target IOU Matrix:\", end='')\n",
        "    print_matrix(m, std, datasets)\n",
        "\n",
        "def print_matrix(m, std, datasets):\n",
        "    print(\"\\nsource\\\\target \", end='')\n",
        "    for d in datasets:\n",
        "        print(\"{:^17}\".format(d), end='')\n",
        "    print('\\n', end='')\n",
        "    for i, row in enumerate(m):\n",
        "        print('{:<14}'.format(datasets[i]), end='')\n",
        "        for j, e in enumerate(row):\n",
        "            if j == i:\n",
        "                print(\"{:^17}\".format('-'*8), end='')\n",
        "            else:\n",
        "                if std[i,j] <= 0:\n",
        "                    print(\"{:^17}\".format( \"{:.4f}\".format(e)), end='')\n",
        "                else:\n",
        "                    print(\"{:^17}\".format( \"{:.4f} ±{:.4f}\".format(e, std[i,j])), end='')\n",
        "        print(\"\\n\", end='')\n",
        "    print(\"\")\n",
        "\n",
        "def print_finished_matrix(ALL, step, metric, domain):\n",
        "    datasets = list(ALL['datasets'].keys())\n",
        "    last_rep = ALL['act_repetition'] # finished\n",
        "    if last_rep + 1 == ALL['parameters']['repeticiones']:\n",
        "        last_rep += 1\n",
        "    mat = np.zeros((len(datasets),)*2).tolist()\n",
        "    s = 1 if domain == 'source' else 2 # test, else train/test\n",
        "    for i, source in enumerate(datasets):\n",
        "        for j, target in enumerate(datasets):\n",
        "            if source == target:\n",
        "                mat[i][j] = [0,]*(last_rep*s)\n",
        "                continue\n",
        "            mse = []\n",
        "            for set_ in ['train', 'test']:\n",
        "                #print(ALL['results'][source][target]['test'][domain][set_].keys())\n",
        "                #print(source,target,set_)\n",
        "                mse = mse + list(ALL['results'][source][target]['test'][domain][set_][metric])\n",
        "            mat[i][j] = (np.array(mse[step::3]).tolist())[:last_rep*s]\n",
        "    mat = np.array(mat)\n",
        "    #print(mat)\n",
        "    m = np.mean(mat, axis=2)\n",
        "    std = np.std(mat, axis=2)\n",
        "    \n",
        "    print(\"step{} {} {} Matrix:\".format(step, domain.capitalize(), metric.upper()), end='')\n",
        "    print_matrix(m, std, datasets)"
      ]
    },
    {
      "cell_type": "markdown",
      "metadata": {},
      "source": [
        "## See results"
      ]
    },
    {
      "cell_type": "code",
      "execution_count": 30,
      "metadata": {},
      "outputs": [
        {
          "name": "stdout",
          "output_type": "stream",
          "text": [
            "Model Name: Att_YNet\n",
            "Repetitions: 10\n",
            "Target IOU Matrix:\n",
            "source\\target     Lucchi++            VNC          Kasthuri++    \n",
            "Lucchi++          --------      0.4024 ±0.0401   0.6676 ±0.0203  \n",
            "VNC            0.5360 ±0.0221      --------      0.3891 ±0.0415  \n",
            "Kasthuri++     0.7036 ±0.0454   0.2520 ±0.0475      --------     \n",
            "\n"
          ]
        }
      ],
      "source": [
        "json_path = './Results_YNet.json' # CHANGE THIS\n",
        "\n",
        "f = open(json_path)\n",
        "ALL = json.load(f)\n",
        "\n",
        "print_mean_matrix(ALL)\n",
        "#print_total_times(ALL)"
      ]
    },
    {
      "cell_type": "code",
      "execution_count": 34,
      "metadata": {},
      "outputs": [],
      "source": [
        "# If you want to explore other results (other steps etc.)\n",
        "\n",
        "#print_finished_matrix(ALL, step=1, metric='mse', domain='target')\n",
        "#print_finished_matrix(ALL, step=1, metric='mse', domain='source')\n",
        "#print('_'*80+'\\n')\n",
        "#print_finished_matrix(ALL, step=2, metric='iou', domain='source')\n",
        "#print_finished_matrix(ALL, step=0, metric='iou', domain='source')"
      ]
    }
  ],
  "metadata": {
    "accelerator": "GPU",
    "colab": {
      "collapsed_sections": [
        "4Ew3GyS-l_d2",
        "Yicr_LOZ_Mp9",
        "qZYVAAtINQJ_",
        "OTvShF72h-4Y",
        "hbsdA5QAqWHl",
        "-gqnqcUzqQag",
        "du6R86IeeeEe",
        "eJYXxK-GYa1W",
        "nS-5hJFq3mw0",
        "kZCQZOXi7XQq",
        "xVMzbIZLcyEF",
        "iBzb9oja7KbL",
        "CpdG2ZZZK0uO",
        "_cd1oa_3HeqF",
        "hgYFeGr-B98_",
        "ZsSNWsVD20H6",
        "YA1UdPPV20H9",
        "cmyLDkczChtf",
        "ojDN518uXG0t",
        "91y9sVITNed1",
        "3wD0M6N1wR5S",
        "uEcM7GxIXG0x"
      ],
      "name": "EM_image_Segmentation.ipynb",
      "provenance": [],
      "toc_visible": true
    },
    "interpreter": {
      "hash": "debdf61127670479a47cb26a9619f3431a8c0552ea0e08a6ebaef695806b6b0b"
    },
    "kernelspec": {
      "display_name": "Python 3.9.6 64-bit",
      "name": "python3"
    },
    "language_info": {
      "codemirror_mode": {
        "name": "ipython",
        "version": 3
      },
      "file_extension": ".py",
      "mimetype": "text/x-python",
      "name": "python",
      "nbconvert_exporter": "python",
      "pygments_lexer": "ipython3",
      "version": "3.9.6"
    }
  },
  "nbformat": 4,
  "nbformat_minor": 2
}
